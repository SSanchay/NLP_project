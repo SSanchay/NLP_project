{
 "cells": [
  {
   "cell_type": "code",
   "execution_count": 1,
   "metadata": {},
   "outputs": [
    {
     "name": "stderr",
     "output_type": "stream",
     "text": [
      "/Users/ivanyuminov/ds_bootcamp/ds_offline/virtual_env/pytorch/lib/python3.8/site-packages/tqdm/auto.py:22: TqdmWarning: IProgress not found. Please update jupyter and ipywidgets. See https://ipywidgets.readthedocs.io/en/stable/user_install.html\n",
      "  from .autonotebook import tqdm as notebook_tqdm\n"
     ]
    }
   ],
   "source": [
    "import numpy as np\n",
    "import re\n",
    "import textwrap\n",
    "from transformers import GPT2Tokenizer\n",
    "import torch\n",
    "from transformers import GPT2LMHeadModel"
   ]
  },
  {
   "cell_type": "code",
   "execution_count": 11,
   "metadata": {},
   "outputs": [],
   "source": [
    "def generate_text(prompt, maximal_length, temp, bims):\n",
    "\n",
    "    # Токенайзер модели для данных \n",
    "    tokenizer = GPT2Tokenizer.from_pretrained('sberbank-ai/rugpt3small_based_on_gpt2')\n",
    "\n",
    "    # загрузка модели с предобученными весами \n",
    "    loaded_model = GPT2LMHeadModel.from_pretrained('sberbank-ai/rugpt3small_based_on_gpt2', output_attentions = False, output_hidden_states = False)\n",
    "    loaded_model.load_state_dict(torch.load('weights_of_preprocessing_text.pt'))\n",
    "\n",
    "    # генерация текста в предобученой модели\n",
    "    out = loaded_model.generate(input_ids = tokenizer.encode(prompt, return_tensors='pt'), max_length = maximal_length, num_beams = bims, do_sample=True, temperature=temp, top_k=50, top_p=0.6, no_repeat_ngram_size=3, num_return_sequences=1).numpy()\n",
    "\n",
    "    # очистка текста для выхода \n",
    "    for out_ in out:\n",
    "        text_dirty = textwrap.fill(tokenizer.decode(out_), 120)\n",
    "    # text_clear = text_dirty.split()\n",
    "    text_clear = text_dirty\n",
    "\n",
    "    end_index = max(text_clear.rfind('.'), text_clear.rfind('!'), text_clear.rfind('?'))\n",
    "    return text_clear[:end_index] + text_clear[end_index]"
   ]
  },
  {
   "cell_type": "code",
   "execution_count": 13,
   "metadata": {},
   "outputs": [
    {
     "name": "stderr",
     "output_type": "stream",
     "text": [
      "The attention mask and the pad token id were not set. As a consequence, you may observe unexpected behavior. Please pass your input's `attention_mask` to obtain reliable results.\n",
      "Setting `pad_token_id` to `eos_token_id`:50256 for open-end generation.\n"
     ]
    },
    {
     "name": "stdout",
     "output_type": "stream",
     "text": [
      "Ничего нет вокруг кроме тумана и пустоты.   Но вот на землю, к нам падает луч Утешающей и прекрасной силы свет    Он в\n",
      "меня бьет из пушки и из ада... И все вокруг Море без границ Мгновенно изменилось! В этом и смысл слова и сути Какое там\n",
      "дно?! Что такое там море Дышится только водой да землей?   Какое мне в воде, какое Наше? А ведь все те кто не видел\n",
      "неба, земли  не понимают что там пустота, и это небо без края Такого вот нету там нет, есть просто пустота...    И я\n",
      "слышу, как кто-то бежит впереди Опусти крылья... ты же с краю!\n"
     ]
    }
   ],
   "source": [
    "# переменные для функции \n",
    "prompt = \"Ничего нет вокруг кроме тумана и пустоты\"\n",
    "temp = 10.00\n",
    "bims = 4\n",
    "maximal_length = 150\n",
    "\n",
    "print(generate_text(prompt, maximal_length, temp, bims))"
   ]
  }
 ],
 "metadata": {
  "kernelspec": {
   "display_name": "Python 3.8.5 ('pytorch')",
   "language": "python",
   "name": "python3"
  },
  "language_info": {
   "codemirror_mode": {
    "name": "ipython",
    "version": 3
   },
   "file_extension": ".py",
   "mimetype": "text/x-python",
   "name": "python",
   "nbconvert_exporter": "python",
   "pygments_lexer": "ipython3",
   "version": "3.8.5"
  },
  "orig_nbformat": 4,
  "vscode": {
   "interpreter": {
    "hash": "4f6bc48c44a94efb491dfba2f27a05a172968f5ef73feac14db7f38fc73efa28"
   }
  }
 },
 "nbformat": 4,
 "nbformat_minor": 2
}
