{
 "cells": [
  {
   "cell_type": "code",
   "execution_count": 6,
   "metadata": {},
   "outputs": [],
   "source": [
    "import numpy as np\n",
    "import re\n",
    "import textwrap\n",
    "from transformers import GPT2Tokenizer\n",
    "import torch\n",
    "from transformers import GPT2LMHeadModel"
   ]
  },
  {
   "cell_type": "code",
   "execution_count": 7,
   "metadata": {},
   "outputs": [],
   "source": [
    "def generate_text(prompt, path_file, maximal_length, temp, bims):\n",
    "\n",
    "    # открываем в файл, сохраняю в переменную text_VV\n",
    "    with open(path_file, encoding='utf8') as f:\n",
    "        text = f.read()\n",
    "    text_VV = re.sub('\\n{2,}', '\\n', text)\n",
    "\n",
    "    # функция очистки текстового файла. Убираю все знаки кроме ?!.,\n",
    "    def clean(text):\n",
    "        text = re.sub(r'\\d+', ' ', text) # удаляем числа\n",
    "        text = text.translate(str.maketrans('', '', '\"#$%&\\'()*+-/:;<=>@[\\\\]^_`{|}~')) # удаляем знаки пунктуации\n",
    "        return text\n",
    "\n",
    "    # очищаю файл фукнцией очистки \n",
    "    text_VV = clean(text_VV)\n",
    "\n",
    "    # Токенайзер модели для данных \n",
    "    tokenizer = GPT2Tokenizer.from_pretrained('sberbank-ai/rugpt3small_based_on_gpt2')\n",
    "    tokens = tokenizer.encode(text_VV, add_special_tokens=True)\n",
    "    tokens = np.array(tokens)\n",
    "\n",
    "    # Разбиваю на train и test\n",
    "    l = len(tokens)//15\n",
    "    train = []\n",
    "    test = []\n",
    "    for i in range(15):\n",
    "        if i%5 > 0:\n",
    "            train.extend(tokens[i*l: (i+1)*l])\n",
    "        else:\n",
    "            test.extend(tokens[i*l: (i+1)*l])\n",
    "    train = np.array(train)\n",
    "    test = np.array(test)\n",
    "\n",
    "    # загрузка модели с предобученными весами \n",
    "    loaded_model = GPT2LMHeadModel.from_pretrained('sberbank-ai/rugpt3small_based_on_gpt2', output_attentions = False, output_hidden_states = False)\n",
    "    loaded_model.load_state_dict(torch.load('/Users/ivanyuminov/NLP_project/text/weights_of_preprocessing_text.pt'))\n",
    "\n",
    "    # генерация текста в предобученой модели\n",
    "    out = loaded_model.generate(input_ids = tokenizer.encode(prompt, return_tensors='pt'), max_length = maximal_length, num_beams = bims, do_sample=True, temperature=temp, top_k=50, top_p=0.6, no_repeat_ngram_size=3, num_return_sequences=1).numpy()\n",
    "\n",
    "    # очистка текста для выхода \n",
    "    for out_ in out:\n",
    "        text_dirty = textwrap.fill(tokenizer.decode(out_), 120)\n",
    "    text_clear = text_dirty.split()\n",
    "    for i, word in enumerate(text_clear):\n",
    "        if ('.' in word) or ('!' in word) or ('?' in word):\n",
    "            the_end = i + 1\n",
    "    return (' '.join(text_clear[:the_end]))"
   ]
  },
  {
   "cell_type": "code",
   "execution_count": 8,
   "metadata": {},
   "outputs": [
    {
     "name": "stderr",
     "output_type": "stream",
     "text": [
      "The attention mask and the pad token id were not set. As a consequence, you may observe unexpected behavior. Please pass your input's `attention_mask` to obtain reliable results.\n",
      "Setting `pad_token_id` to `eos_token_id`:50256 for open-end generation.\n"
     ]
    },
    {
     "name": "stdout",
     "output_type": "stream",
     "text": [
      "Ничего нет вокруг кроме пустоты и тумана А я так устал.. Устали, устав... Как вы все устали? Оттого я в печали пою. Я ухожу все же, уходишь. А вам хорошо.. И мы идем вдвоем по небу. Все это просто. Но мы вместе с ними, мы вместе Но, в этот момент я вспоминаю про себя: я все так и есть Но мы встретимся.. Только так Я всегда так У нас нет времени Только вдвоем...\n"
     ]
    }
   ],
   "source": [
    "# переменные для функции \n",
    "prompt = \"Ничего нет вокруг кроме пустоты и тумана\"\n",
    "path_file = '/Users/ivanyuminov/NLP_project/text/text_VV.txt'\n",
    "temp = 100.00\n",
    "bims = 5\n",
    "maximal_length = 100\n",
    "\n",
    "print(generate_text(prompt, path_file, maximal_length, temp, bims))"
   ]
  },
  {
   "cell_type": "code",
   "execution_count": null,
   "metadata": {},
   "outputs": [],
   "source": []
  }
 ],
 "metadata": {
  "kernelspec": {
   "display_name": "Python 3.8.5 ('pytorch')",
   "language": "python",
   "name": "python3"
  },
  "language_info": {
   "codemirror_mode": {
    "name": "ipython",
    "version": 3
   },
   "file_extension": ".py",
   "mimetype": "text/x-python",
   "name": "python",
   "nbconvert_exporter": "python",
   "pygments_lexer": "ipython3",
   "version": "3.8.5"
  },
  "orig_nbformat": 4,
  "vscode": {
   "interpreter": {
    "hash": "4f6bc48c44a94efb491dfba2f27a05a172968f5ef73feac14db7f38fc73efa28"
   }
  }
 },
 "nbformat": 4,
 "nbformat_minor": 2
}
