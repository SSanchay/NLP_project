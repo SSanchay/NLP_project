{
 "cells": [
  {
   "cell_type": "code",
   "execution_count": 31,
   "metadata": {},
   "outputs": [],
   "source": [
    "import numpy as np\n",
    "import re\n",
    "import random\n",
    "import transformers\n",
    "from tqdm.notebook import tqdm\n",
    "import transformers\n",
    "from transformers import GPT2Tokenizer\n",
    "import string"
   ]
  },
  {
   "cell_type": "code",
   "execution_count": 32,
   "metadata": {},
   "outputs": [],
   "source": [
    "# !pip install transformers"
   ]
  },
  {
   "cell_type": "code",
   "execution_count": 33,
   "metadata": {},
   "outputs": [],
   "source": [
    "# открываем файл\n",
    "with open('/Users/ivanyuminov/Downloads/text_VV.txt', encoding='utf8') as f:\n",
    "    text = f.read()\n",
    "text_VV = re.sub('\\n{2,}', '\\n', text)"
   ]
  },
  {
   "cell_type": "code",
   "execution_count": 34,
   "metadata": {},
   "outputs": [],
   "source": [
    "def clean(text):\n",
    "    text = re.sub(r'\\d+', ' ', text) # удаляем числа\n",
    "    text = text.translate(str.maketrans('', '', '\"#$%&\\'()*+-/:;<=>@[\\\\]^_`{|}~')) # удаляем знаки пунктуации\n",
    "    return text\n",
    "\n",
    "text_VV = clean(text_VV)"
   ]
  },
  {
   "cell_type": "code",
   "execution_count": 35,
   "metadata": {},
   "outputs": [],
   "source": [
    "# Токенайзер модели для данных \n",
    "tokenizer = GPT2Tokenizer.from_pretrained('sberbank-ai/rugpt3small_based_on_gpt2')\n",
    "tokens = tokenizer.encode(text_VV, add_special_tokens=True)\n",
    "tokens = np.array(tokens)"
   ]
  },
  {
   "cell_type": "code",
   "execution_count": 36,
   "metadata": {},
   "outputs": [
    {
     "name": "stdout",
     "output_type": "stream",
     "text": [
      "48446 38748 9687\n"
     ]
    }
   ],
   "source": [
    "# разбиваем на train и test\n",
    "l = len(tokens)//15\n",
    "train = []\n",
    "test = []\n",
    "for i in range(15):\n",
    "    if i%5 > 0:\n",
    "        train.extend(tokens[i*l: (i+1)*l])\n",
    "    else:\n",
    "        test.extend(tokens[i*l: (i+1)*l])\n",
    "train = np.array(train)\n",
    "test = np.array(test)\n",
    "print(len(tokens), len(train), len(test))"
   ]
  },
  {
   "cell_type": "code",
   "execution_count": null,
   "metadata": {},
   "outputs": [],
   "source": []
  }
 ],
 "metadata": {
  "kernelspec": {
   "display_name": "Python 3.8.5 ('pytorch')",
   "language": "python",
   "name": "python3"
  },
  "language_info": {
   "codemirror_mode": {
    "name": "ipython",
    "version": 3
   },
   "file_extension": ".py",
   "mimetype": "text/x-python",
   "name": "python",
   "nbconvert_exporter": "python",
   "pygments_lexer": "ipython3",
   "version": "3.8.5"
  },
  "orig_nbformat": 4,
  "vscode": {
   "interpreter": {
    "hash": "4f6bc48c44a94efb491dfba2f27a05a172968f5ef73feac14db7f38fc73efa28"
   }
  }
 },
 "nbformat": 4,
 "nbformat_minor": 2
}
