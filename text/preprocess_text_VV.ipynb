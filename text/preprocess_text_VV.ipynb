{
 "cells": [
  {
   "cell_type": "code",
   "execution_count": 1,
   "metadata": {},
   "outputs": [
    {
     "name": "stderr",
     "output_type": "stream",
     "text": [
      "/Users/ivanyuminov/ds_bootcamp/ds_offline/virtual_env/pytorch/lib/python3.8/site-packages/tqdm/auto.py:22: TqdmWarning: IProgress not found. Please update jupyter and ipywidgets. See https://ipywidgets.readthedocs.io/en/stable/user_install.html\n",
      "  from .autonotebook import tqdm as notebook_tqdm\n"
     ]
    }
   ],
   "source": [
    "import numpy as np\n",
    "import re\n",
    "import random\n",
    "import transformers\n",
    "from transformers import GPT2Tokenizer\n",
    "import string\n",
    "import torch\n",
    "from torch.optim import AdamW\n",
    "import textwrap"
   ]
  },
  {
   "cell_type": "code",
   "execution_count": 32,
   "metadata": {},
   "outputs": [],
   "source": [
    "# !pip install transformers"
   ]
  },
  {
   "cell_type": "code",
   "execution_count": 2,
   "metadata": {},
   "outputs": [],
   "source": [
    "# открываем файл\n",
    "with open('/Users/ivanyuminov/ds_bootcamp/NLP_project/text/text_VV.txt', encoding='utf8') as f:\n",
    "    text = f.read()\n",
    "text_VV = re.sub('\\n{2,}', '\\n', text)"
   ]
  },
  {
   "cell_type": "code",
   "execution_count": 3,
   "metadata": {},
   "outputs": [],
   "source": [
    "def clean(text):\n",
    "    text = re.sub(r'\\d+', ' ', text) # удаляем числа\n",
    "    text = text.translate(str.maketrans('', '', '\"#$%&\\'()*+-/:;<=>@[\\\\]^_`{|}~')) # удаляем знаки пунктуации\n",
    "    return text\n",
    "\n",
    "text_VV = clean(text_VV)"
   ]
  },
  {
   "cell_type": "code",
   "execution_count": 4,
   "metadata": {},
   "outputs": [],
   "source": [
    "# Токенайзер модели для данных \n",
    "tokenizer = GPT2Tokenizer.from_pretrained('sberbank-ai/rugpt3small_based_on_gpt2')\n",
    "tokens = tokenizer.encode(text_VV, add_special_tokens=True)\n",
    "tokens = np.array(tokens)"
   ]
  },
  {
   "cell_type": "code",
   "execution_count": 5,
   "metadata": {},
   "outputs": [
    {
     "name": "stdout",
     "output_type": "stream",
     "text": [
      "48326 38652 9663\n"
     ]
    }
   ],
   "source": [
    "# разбиваем на train и test\n",
    "l = len(tokens)//15\n",
    "train = []\n",
    "test = []\n",
    "for i in range(15):\n",
    "    if i%5 > 0:\n",
    "        train.extend(tokens[i*l: (i+1)*l])\n",
    "    else:\n",
    "        test.extend(tokens[i*l: (i+1)*l])\n",
    "train = np.array(train)\n",
    "test = np.array(test)\n",
    "print(len(tokens), len(train), len(test))"
   ]
  },
  {
   "cell_type": "code",
   "execution_count": 6,
   "metadata": {},
   "outputs": [],
   "source": [
    "from transformers import GPT2LMHeadModel\n",
    "\n",
    "# Эту модель просто подгружаем и не будем дообучать \n",
    "model_init = GPT2LMHeadModel.from_pretrained(\n",
    "    'sberbank-ai/rugpt3small_based_on_gpt2',\n",
    "    output_attentions = False,\n",
    "    output_hidden_states = False,\n",
    ")\n",
    "\n",
    "\n",
    "# Эту модель подгрузим и далее обучим\n",
    "model = GPT2LMHeadModel.from_pretrained(\n",
    "    'sberbank-ai/rugpt3small_based_on_gpt2',\n",
    "    output_attentions = False,\n",
    "    output_hidden_states = False)"
   ]
  },
  {
   "cell_type": "code",
   "execution_count": 7,
   "metadata": {},
   "outputs": [],
   "source": [
    "batch_size = 8\n",
    "max_len = 256\n",
    "epochs = 7\n",
    "\n",
    "n_train = len(train)//(batch_size*max_len)\n",
    "n_test = len(test)//(batch_size*max_len)\n",
    "# print(n_train, n_test)\n",
    "\n",
    "# устанавливаем оптимизатор\n",
    "optimizer = AdamW(model.parameters(), lr = 1e-5, eps = 1e-8)\n",
    "\n",
    "# трансформеры с трудом обучаются, для них нужны разные способы повышения \n",
    "# эффективности градиентного спуска\n",
    "total_steps = n_train * epochs\n",
    "scheduler = transformers.get_linear_schedule_with_warmup(optimizer, \n",
    "                                            num_warmup_steps = 0,\n",
    "                                            num_training_steps = total_steps)\n",
    "\n",
    "\n",
    "def accuracy(y_true, logits):\n",
    "    return torch.mean((y_true[1:] == torch.argmax(logits, dim=2)[:-1]).float()).detach().cpu().numpy()"
   ]
  },
  {
   "cell_type": "code",
   "execution_count": 8,
   "metadata": {},
   "outputs": [
    {
     "name": "stdout",
     "output_type": "stream",
     "text": [
      "epoch 1/7 : training\n",
      "epoch 1/7 : validation\n",
      "epoch 2/7 : training\n",
      "epoch 2/7 : validation\n",
      "epoch 3/7 : training\n",
      "epoch 3/7 : validation\n",
      "epoch 4/7 : training\n",
      "epoch 4/7 : validation\n",
      "epoch 5/7 : training\n",
      "epoch 5/7 : validation\n",
      "epoch 6/7 : training\n",
      "epoch 6/7 : validation\n",
      "epoch 7/7 : training\n",
      "epoch 7/7 : validation\n"
     ]
    }
   ],
   "source": [
    "# готовим тензоры для обучения\n",
    "def prep_tensors(x, i, batch_size=batch_size, max_len=max_len):\n",
    "    batch_ids = x[i*batch_size*max_len: (i+1)*batch_size*max_len]\n",
    "    batch_ids = batch_ids.reshape(batch_size, max_len)\n",
    "    batch_ids = torch.tensor(batch_ids)\n",
    "    return batch_ids\n",
    "    \n",
    "# обучающий цикл\n",
    "for epoch in range(1, epochs+1):\n",
    "    print(f'epoch {epoch}/{epochs} : training')\n",
    "\n",
    "    train_loss = []\n",
    "    train_acc = []\n",
    "    model.train()\n",
    "    # pbar = tqdm(range(n_train))\n",
    "    # for i in pbar:\n",
    "    for i in range(n_train):\n",
    "        batch_ids = prep_tensors(train, i)\n",
    "\n",
    "        model.zero_grad()\n",
    "        loss, logits, _ = model(batch_ids,\n",
    "                                token_type_ids=None, \n",
    "                                labels=batch_ids\n",
    "                             ).values()\n",
    "\n",
    "        loss.backward()\n",
    "        torch.nn.utils.clip_grad_norm_(model.parameters(), 1.0)\n",
    "        optimizer.step()\n",
    "        scheduler.step()\n",
    "        \n",
    "        train_loss.append(loss.item())\n",
    "        train_acc.append(accuracy(batch_ids, logits))\n",
    "        # pbar.set_description(f'acc {np.mean(train_acc):.4f} loss {np.mean(train_loss):.4f}', refresh=True)\n",
    "\n",
    "    print(f'epoch {epoch}/{epochs} : validation')\n",
    "    model.eval()\n",
    "    val_acc = []\n",
    "    val_loss = []\n",
    "    # pbar = tqdm(range(n_test))\n",
    "    # for i in pbar:\n",
    "    for i in range(n_test):\n",
    "        batch_ids = prep_tensors(test, i)\n",
    "        with torch.no_grad():        \n",
    "            loss, logits, _ = model(batch_ids, \n",
    "                                token_type_ids=None, \n",
    "                                # attention_mask=batch_mask,\n",
    "                                labels=batch_ids\n",
    "                                 ).values()\n",
    "        \n",
    "        val_loss.append(loss.item())\n",
    "        val_acc.append(accuracy(batch_ids, logits))\n",
    "        # pbar.set_description(f'acc {np.mean(val_acc):.4f} loss {np.mean(val_loss):.4f}', refresh=True)"
   ]
  },
  {
   "cell_type": "code",
   "execution_count": 9,
   "metadata": {},
   "outputs": [],
   "source": [
    "torch.save(model.state_dict(), 'weights_of_preprocessing_text.pt')"
   ]
  },
  {
   "cell_type": "code",
   "execution_count": 10,
   "metadata": {},
   "outputs": [
    {
     "name": "stderr",
     "output_type": "stream",
     "text": [
      "The attention mask and the pad token id were not set. As a consequence, you may observe unexpected behavior. Please pass your input's `attention_mask` to obtain reliable results.\n",
      "Setting `pad_token_id` to `eos_token_id`:50256 for open-end generation.\n"
     ]
    },
    {
     "name": "stdout",
     "output_type": "stream",
     "text": [
      "Ничего нет кругом кроме пустоты и тумана, который так не может удержать никого кроме своей цели. Только здесь - и я\n",
      "чувствую,\n",
      "------------------\n",
      "Ничего нет кругом кроме пустоты и тумана и что не будет никого кроме этого всего! Таких много на нашем маленьком\n",
      "планетном\n",
      "------------------\n",
      "Ничего нет кругом кроме пустоты и тумана - все покрылось пылью - там все так странно и одиноко А это - ни с\n",
      "------------------\n",
      "Ничего нет кругом кроме пустоты и тумана... И что ты видишь в том кроме этого тумана Что это значит Что есть пустота?\n",
      "------------------\n",
      "Ничего нет кругом кроме пустоты и тумана..  Все что было когда либо живым... только и всего.   Не могу сказать\n",
      "------------------\n",
      "Ничего нет кругом кроме пустоты и тумана, а вокруг тишина - так я могу стоять один? Мне кажется это все очень глупо.\n",
      "------------------\n",
      "Ничего нет кругом кроме пустоты и тумана - всё в мире как одна огромная река - ничего вокруг как всегда нету Есть\n",
      "пустота...\n",
      "------------------\n"
     ]
    }
   ],
   "source": [
    "# модель без дообучения\n",
    "prompt = 'Ничего нет кругом кроме пустоты и тумана'\n",
    "prompt = tokenizer.encode(prompt, return_tensors='pt')\n",
    "out = model_init.generate(\n",
    "    input_ids=prompt,\n",
    "    max_length=25,\n",
    "    num_beams=5,\n",
    "    do_sample=True,\n",
    "    temperature=100.,\n",
    "    top_k=50,\n",
    "    top_p=0.6,\n",
    "    no_repeat_ngram_size=3,\n",
    "    num_return_sequences=7,\n",
    "    ).numpy()\n",
    "for out_ in out:\n",
    "    print(textwrap.fill(tokenizer.decode(out_), 120), end='\\n------------------\\n')"
   ]
  },
  {
   "cell_type": "code",
   "execution_count": 11,
   "metadata": {},
   "outputs": [
    {
     "name": "stderr",
     "output_type": "stream",
     "text": [
      "The attention mask and the pad token id were not set. As a consequence, you may observe unexpected behavior. Please pass your input's `attention_mask` to obtain reliable results.\n",
      "Setting `pad_token_id` to `eos_token_id`:50256 for open-end generation.\n"
     ]
    },
    {
     "name": "stdout",
     "output_type": "stream",
     "text": [
      "Ничего нет кругом кроме пустоты и тумана.  И нет в мире ничего, что не было бы пустотой.   Я знаю,\n",
      "ты не поверишь, но я не верю,  Что в этом мире есть пустота и туман,   Что там нет ни души, ни\n",
      "света, и нет никого, кто мог бы сказать мне что-то, кроме тебя, мой друг, моя любовь, мое счастье,\n",
      "мои слезы, твои поцелуи, твой голос, твоя улыбка, твое дыхание, наше дыхание...  Я не могу поверить\n",
      "в то, о чем ты так долго думал, не может быть, чтобы все было так, как ты хочешь, а не так как я\n",
      "хочу, потому что я люблю тебя и хочу быть с тобой всегда, пока ты жив\n",
      "------------------\n"
     ]
    }
   ],
   "source": [
    "# дообученная модель\n",
    "prompt = 'Ничего нет кругом кроме пустоты и тумана'\n",
    "prompt = tokenizer.encode(prompt, return_tensors='pt')\n",
    "out = model.generate(\n",
    "    input_ids=prompt,\n",
    "    max_length=150,\n",
    "    num_beams=5,\n",
    "    do_sample=True,\n",
    "    temperature=1,\n",
    "    top_k=50,\n",
    "    top_p=0.6,\n",
    "    no_repeat_ngram_size=2,\n",
    "    num_return_sequences=1).numpy()\n",
    "for out_ in out:\n",
    "    print(textwrap.fill(tokenizer.decode(out_), 100), end='\\n------------------\\n')"
   ]
  }
 ],
 "metadata": {
  "kernelspec": {
   "display_name": "Python 3.8.5 ('pytorch')",
   "language": "python",
   "name": "python3"
  },
  "language_info": {
   "codemirror_mode": {
    "name": "ipython",
    "version": 3
   },
   "file_extension": ".py",
   "mimetype": "text/x-python",
   "name": "python",
   "nbconvert_exporter": "python",
   "pygments_lexer": "ipython3",
   "version": "3.8.5"
  },
  "orig_nbformat": 4,
  "vscode": {
   "interpreter": {
    "hash": "4f6bc48c44a94efb491dfba2f27a05a172968f5ef73feac14db7f38fc73efa28"
   }
  }
 },
 "nbformat": 4,
 "nbformat_minor": 2
}
